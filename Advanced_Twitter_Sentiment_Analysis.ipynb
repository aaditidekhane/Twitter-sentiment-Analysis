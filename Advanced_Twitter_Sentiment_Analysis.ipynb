{
 "cells": [
  {
   "cell_type": "markdown",
   "id": "fe85b209",
   "metadata": {},
   "source": [
    "# Advanced Twitter Sentiment Analysis\n",
    "This notebook performs advanced sentiment analysis on Twitter data using Python. It includes preprocessing, feature extraction, model training, and evaluation."
   ]
  },
  {
   "cell_type": "code",
   "execution_count": null,
   "id": "b3f183fd",
   "metadata": {},
   "outputs": [],
   "source": [
    "import pandas as pd\n",
    "import numpy as np\n",
    "import re\n",
    "import seaborn as sns\n",
    "import matplotlib.pyplot as plt\n",
    "from sklearn.model_selection import train_test_split\n",
    "from sklearn.feature_extraction.text import TfidfVectorizer\n",
    "from sklearn.linear_model import LogisticRegression\n",
    "from sklearn.metrics import classification_report, confusion_matrix\n",
    "import nltk\n",
    "from nltk.corpus import stopwords\n",
    "from nltk.stem import WordNetLemmatizer\n",
    "import emoji\n",
    "import warnings\n",
    "warnings.filterwarnings('ignore')\n",
    "nltk.download('stopwords')\n",
    "nltk.download('wordnet')\n"
   ]
  },
  {
   "cell_type": "code",
   "execution_count": null,
   "id": "fde99643",
   "metadata": {},
   "outputs": [],
   "source": [
    "# Load sample dataset (you can replace this with your own Twitter dataset)\n",
    "df = pd.read_csv('https://raw.githubusercontent.com/dD2405/Twitter_Sentiment_Analysis/master/train.csv')\n",
    "df = df[['label', 'tweet']]\n",
    "df.columns = ['label', 'text']\n",
    "df.head()\n"
   ]
  },
  {
   "cell_type": "code",
   "execution_count": null,
   "id": "438e0f3b",
   "metadata": {},
   "outputs": [],
   "source": [
    "stop_words = set(stopwords.words('english'))\n",
    "lemmatizer = WordNetLemmatizer()\n",
    "\n",
    "def clean_text(text):\n",
    "    text = re.sub(r'http\\S+', '', text)  # remove URLs\n",
    "    text = re.sub(r'@[A-Za-z0-9_]+', '', text)  # remove mentions\n",
    "    text = re.sub(r'#', '', text)  # remove hashtag symbol\n",
    "    text = emoji.replace_emoji(text, replace='')  # remove emojis\n",
    "    text = re.sub(r'[^a-zA-Z ]', '', text)  # remove punctuation\n",
    "    text = text.lower()  # lowercase\n",
    "    tokens = text.split()\n",
    "    tokens = [lemmatizer.lemmatize(word) for word in tokens if word not in stop_words]\n",
    "    return \" \".join(tokens)\n",
    "\n",
    "df['cleaned_text'] = df['text'].apply(clean_text)\n",
    "df[['text', 'cleaned_text']].head()\n"
   ]
  },
  {
   "cell_type": "code",
   "execution_count": null,
   "id": "002c0e0c",
   "metadata": {},
   "outputs": [],
   "source": [
    "tfidf = TfidfVectorizer(max_features=5000)\n",
    "X = tfidf.fit_transform(df['cleaned_text']).toarray()\n",
    "y = df['label']\n"
   ]
  },
  {
   "cell_type": "code",
   "execution_count": null,
   "id": "931cd06a",
   "metadata": {},
   "outputs": [],
   "source": [
    "X_train, X_test, y_train, y_test = train_test_split(X, y, test_size=0.2, random_state=42)\n"
   ]
  },
  {
   "cell_type": "code",
   "execution_count": null,
   "id": "edc6dff5",
   "metadata": {},
   "outputs": [],
   "source": [
    "model = LogisticRegression()\n",
    "model.fit(X_train, y_train)\n",
    "y_pred = model.predict(X_test)\n",
    "\n",
    "print(\"Classification Report:\")\n",
    "print(classification_report(y_test, y_pred))\n",
    "\n",
    "conf_matrix = confusion_matrix(y_test, y_pred)\n",
    "sns.heatmap(conf_matrix, annot=True, fmt='d', cmap='Blues')\n",
    "plt.xlabel(\"Predicted\")\n",
    "plt.ylabel(\"Actual\")\n",
    "plt.title(\"Confusion Matrix\")\n",
    "plt.show()\n"
   ]
  },
  {
   "cell_type": "code",
   "execution_count": null,
   "id": "9c854e7f",
   "metadata": {},
   "outputs": [],
   "source": [
    "# Add length of tweet and number of exclamations as new features\n",
    "df['text_length'] = df['cleaned_text'].apply(len)\n",
    "df['num_exclaims'] = df['text'].apply(lambda x: x.count('!'))\n",
    "\n",
    "# Merge with TF-IDF features\n",
    "features_df = pd.DataFrame(X, columns=tfidf.get_feature_names_out())\n",
    "features_df['text_length'] = df['text_length'].values\n",
    "features_df['num_exclaims'] = df['num_exclaims'].values\n",
    "\n",
    "X_train2, X_test2, y_train2, y_test2 = train_test_split(features_df, y, test_size=0.2, random_state=42)\n",
    "\n",
    "model2 = LogisticRegression()\n",
    "model2.fit(X_train2, y_train2)\n",
    "y_pred2 = model2.predict(X_test2)\n",
    "\n",
    "print(\"Classification Report with Additional Features:\")\n",
    "print(classification_report(y_test2, y_pred2))\n",
    "\n",
    "sns.heatmap(confusion_matrix(y_test2, y_pred2), annot=True, fmt='d', cmap='Greens')\n",
    "plt.title(\"Confusion Matrix with Additional Features\")\n",
    "plt.show()\n"
   ]
  }
 ],
 "metadata": {},
 "nbformat": 4,
 "nbformat_minor": 5
}
